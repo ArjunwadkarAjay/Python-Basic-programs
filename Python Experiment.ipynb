{
 "cells": [
  {
   "cell_type": "code",
   "execution_count": null,
   "metadata": {},
   "outputs": [],
   "source": [
    "exp=input(\"Enter the string along with paranthesis\")\n",
    "stack=[]\n",
    "c=True\n",
    "for i in exp:\n",
    "    if i==\"{\" or i==\"(\" or i==\"[\":\n",
    "        stack.append(i)\n",
    "    elif i==\"}\" or i==\")\" or i==\"]\":\n",
    "        if len(stack)==0:\n",
    "            c=False\n",
    "            break\n",
    "        temp=stack.pop()\n",
    "        if temp==\"(\" and (i==\"}\" or i==\"]\"):\n",
    "            c=False\n",
    "            break\n",
    "        if temp==\"{\" and (i==\")\" or i==\"]\"):\n",
    "            c=False\n",
    "            break\n",
    "        if temp==\"[\" and (i==\"}\" or i==\")\"):\n",
    "            c=False\n",
    "            break\n",
    "    else:\n",
    "        continue\n",
    "        \n",
    "if c:\n",
    "    print(\"The given expression is valid\")\n",
    "else:\n",
    "    print(\"The given expression is not valid\")"
   ]
  },
  {
   "cell_type": "code",
   "execution_count": null,
   "metadata": {},
   "outputs": [],
   "source": [
    "def armstrong(x):\n",
    "    t=x\n",
    "    s=0\n",
    "    while t!=0:\n",
    "        d=t%10\n",
    "        s=s+(d**3)\n",
    "        t=int(t/10)\n",
    "    if s==x:\n",
    "        return True\n",
    "num=[i for i in range(1,1000+1) if armstrong(i)]\n",
    "print(\"the numbers which are armstrong are:\")\n",
    "for i in num:\n",
    "    print(i)"
   ]
  },
  {
   "cell_type": "code",
   "execution_count": null,
   "metadata": {},
   "outputs": [],
   "source": [
    "def fibo(x):\n",
    "    if x==0:\n",
    "        return 0\n",
    "    elif x==1:\n",
    "        return 1\n",
    "    else:\n",
    "        return (fibo(x-1)+fibo(x-2))\n",
    "a,b=int(input(\"Enter the start index of series\")),int(input(\"Enter the end index of series\"))\n",
    "for i in range(a,b+1):\n",
    "    print(fibo(i))"
   ]
  },
  {
   "cell_type": "code",
   "execution_count": 30,
   "metadata": {},
   "outputs": [
    {
     "name": "stdout",
     "output_type": "stream",
     "text": [
      "ENTER THE NUMBER:6\n",
      "\n",
      "A \n",
      "A B \n",
      "A B C \n",
      "A B C D \n",
      "A B C D E \n",
      "ENTER THE NUMBER:6\n",
      "    * \n",
      "  * * * \n",
      "* * * * * \n",
      "  * * * \n",
      "    * \n"
     ]
    }
   ],
   "source": [
    "#Pattern1\n",
    "n=int(input(\"ENTER THE NUMBER:\"))\n",
    "for i in range(0,n):\n",
    "    for j in range(0,i):\n",
    "        print(chr(65+j),end=\" \")\n",
    "    print()\n",
    "#Pattern2\n",
    "m=int(input(\"ENTER THE NUMBER:\"))\n",
    "t=int(m/2)\n",
    "for i in range(0,t):\n",
    "    for j in range(t-1,i,-1):\n",
    "        print(\" \",end=\" \")\n",
    "    for j in range(0,2*i+1):\n",
    "        print(\"*\",end=\" \")\n",
    "    print()\n",
    "for i in range(t-2,-1,-1):\n",
    "    for j in range(i,t-1):\n",
    "        print(\" \",end=\" \")\n",
    "    for j in range(0,2*i+1):\n",
    "        print(\"*\",end=\" \")\n",
    "    print()"
   ]
  },
  {
   "cell_type": "code",
   "execution_count": 34,
   "metadata": {},
   "outputs": [
    {
     "name": "stdout",
     "output_type": "stream",
     "text": [
      "Enter the first string malyalam\n",
      "1st string mal 2nd string y\n",
      "Enter the first string acbde\n",
      "The count is  3\n"
     ]
    }
   ],
   "source": [
    "#part 1\n",
    "x1=input(\"Enter the first string \")\n",
    "#x2=input(\"Enter the second string \")\n",
    "str1=\"\"\n",
    "str2=\"\"\n",
    "l1=[i for i in x1 if(x1.count(i)>1)]\n",
    "l2=[i for i in x1 if(x1.count(i)==1)]\n",
    "\n",
    "print(\"1st string {} 2nd string {}\".format(str1.join(set(l1)),str2.join(set(l2))))\n",
    "\n",
    "#part2\n",
    "x1=input(\"Enter the first string \")\n",
    "x1=x1.upper()\n",
    "#x2=input(\"Enter the second string \")\n",
    "str1=\"\"\n",
    "str2=\"\"\n",
    "l1=[chr(i) for i in range(65,91)]\n",
    "l2=[i for i in x1 if l1.index(i)==x1.index(i)]\n",
    "print(\"The count is \",len(l2))\n",
    "#print(\"1st string {} 2nd string {}\".format(str1.join(set(l1)),str2.join(set(l2))))\n",
    "\n",
    "\n"
   ]
  },
  {
   "cell_type": "code",
   "execution_count": 31,
   "metadata": {},
   "outputs": [
    {
     "name": "stdout",
     "output_type": "stream",
     "text": [
      "Enter the string:malyalam\n",
      "the 1st string is y while the 2nd string is y\n",
      "Enter the string:abcd\n",
      "the characters are as follows:\n",
      "a\n",
      "b\n",
      "c\n",
      "d\n"
     ]
    }
   ],
   "source": [
    "#part 1\n",
    "def listToString(s):\n",
    "    t=\"\"\n",
    "    return t.join(s)\n",
    "    \n",
    "a=input(\"Enter the string:\")\n",
    "t1=[]\n",
    "t2=[]\n",
    "for i in a:\n",
    "    if a.count(i)==1:\n",
    "        t1.append(i)\n",
    "    else:\n",
    "        if i not in t2:\n",
    "            t2.append(i)\n",
    "print(\"the 1st string is {} while the 2nd string is {}\".format(listToString(t1),listToString(t1)))\n",
    "#part 2\n",
    "b=input(\"Enter the string:\")\n",
    "print(\"the characters are as follows:\")\n",
    "for i in range(0,len(b)):\n",
    "    if ord(b[i])-64==i+1 or ord(b[i])-96==i+1:\n",
    "        print(b[i])\n"
   ]
  },
  {
   "cell_type": "code",
   "execution_count": 1,
   "metadata": {},
   "outputs": [
    {
     "name": "stdout",
     "output_type": "stream",
     "text": [
      "Select a choice :\n",
      " 1.enqueue right \n",
      " 2.enqueue left\n",
      " 3.dequeue right \n",
      " 4.dequeue left\n",
      " 5.show queue\n",
      " 6.exit\n",
      " 1\n",
      "enter the number:2\n",
      "Select a choice :\n",
      " 1.enqueue right \n",
      " 2.enqueue left\n",
      " 3.dequeue right \n",
      " 4.dequeue left\n",
      " 5.show queue\n",
      " 6.exit\n",
      " 2\n",
      "enter the number:1\n",
      "Select a choice :\n",
      " 1.enqueue right \n",
      " 2.enqueue left\n",
      " 3.dequeue right \n",
      " 4.dequeue left\n",
      " 5.show queue\n",
      " 6.exit\n",
      " 3\n",
      "the removed value is  2\n",
      "Select a choice :\n",
      " 1.enqueue right \n",
      " 2.enqueue left\n",
      " 3.dequeue right \n",
      " 4.dequeue left\n",
      " 5.show queue\n",
      " 6.exit\n",
      " 4\n",
      "the removed value is  1\n",
      "Select a choice :\n",
      " 1.enqueue right \n",
      " 2.enqueue left\n",
      " 3.dequeue right \n",
      " 4.dequeue left\n",
      " 5.show queue\n",
      " 6.exit\n",
      " 5\n",
      "the queue is  []\n",
      "Select a choice :\n",
      " 1.enqueue right \n",
      " 2.enqueue left\n",
      " 3.dequeue right \n",
      " 4.dequeue left\n",
      " 5.show queue\n",
      " 6.exit\n",
      " 6\n",
      "the queue is  []\n"
     ]
    }
   ],
   "source": [
    "queue=[]\n",
    "s=0\n",
    "while s!=6:\n",
    "    s=int(input(\"Select a choice :\\n 1.enqueue right \\n 2.enqueue left\\n 3.dequeue right \\n 4.dequeue left\\n 5.show queue\\n 6.exit\\n \"))\n",
    "    if s==1:\n",
    "        val=int(input(\"enter the number:\"))\n",
    "        queue.append(val)\n",
    "    elif s==2:\n",
    "        val=int(input(\"enter the number:\"))\n",
    "        queue.insert(0,val)\n",
    "    elif s==3:\n",
    "        print(\"the removed value is \",queue.pop())\n",
    "    elif s==4:\n",
    "        print(\"the removed value is \",queue[0])\n",
    "        queue.remove(queue[0])\n",
    "    else:\n",
    "        print(\"the queue is \",queue)\n"
   ]
  },
  {
   "cell_type": "code",
   "execution_count": 2,
   "metadata": {},
   "outputs": [
    {
     "name": "stdout",
     "output_type": "stream",
     "text": [
      "enter the number of parttime employee2\n",
      "enter the namea\n",
      "enter the id: 1\n",
      "enter the number of hours: 2\n",
      "enter the salary per hour: 34\n",
      "enter the nameb\n",
      "enter the id: 2\n",
      "enter the number of hours: 3\n",
      "enter the salary per hour: 54\n",
      "enter the number of fulltime employee1\n",
      "enter the nameA\n",
      "enter the id: 11\n",
      "enter the salary: 212\n",
      "Employee a has identity number as 1\n",
      "His salary for an hour is  2  and number of hours is  34\n",
      "Employee b has identity number as 2\n",
      "His salary for an hour is  3  and number of hours is  54\n",
      "*****************************\n",
      "Employee A has identity number as 11\n",
      "He has salary of  212\n"
     ]
    }
   ],
   "source": [
    "partTime=[]\n",
    "fullTime=[]\n",
    "class Employee:\n",
    "    def __init__(self,name,id_no):\n",
    "        self.name=name\n",
    "        self.id_no=id_no\n",
    "    def show(self):\n",
    "        print(\"Employee {} has identity number as {}\".format(self.name,self.id_no))\n",
    "class Fulltime(Employee):\n",
    "    def __init__(self,name,id_no,salary):\n",
    "        Employee.__init__(self,name,id_no)\n",
    "        self.salary=salary\n",
    "    def show(self):\n",
    "        super().show()\n",
    "        print(\"He has salary of \",self.salary)\n",
    "class Parttime(Employee):\n",
    "    def __init__(self,name,id_no,salary_per_hour,no_hours):\n",
    "        Employee.__init__(self,name,id_no)\n",
    "        self.salary_per_hour=salary_per_hour\n",
    "        self.no_hours=no_hours\n",
    "    def show(self):\n",
    "        super().show()\n",
    "        print(\"His salary for an hour is \",self.salary_per_hour,\" and number of hours is \",self.no_hours)\n",
    "        \n",
    "pt=int(input(\"enter the number of parttime employee\"))\n",
    "for i in range(0,pt):\n",
    "    name,id_no,no_hours,salary_hour=input(\"enter the name\"),int(input(\"enter the id: \")),int(input(\"enter the number of hours: \")),int(input(\"enter the salary per hour: \"))\n",
    "    partTime.append(Parttime(name,id_no,no_hours,salary_hour))\n",
    "ft=int(input(\"enter the number of fulltime employee\"))\n",
    "for i in range(0,ft):\n",
    "    name,id_no,salary=input(\"enter the name\"),int(input(\"enter the id: \")),int(input(\"enter the salary: \"))\n",
    "    fullTime.append(Fulltime(name,id_no,salary))\n",
    "#using show method\n",
    "print(\"*********PartTime Employee*********\")\n",
    "for i in partTime:\n",
    "    i.show()\n",
    "    print()\n",
    "print()\n",
    "print(\"*********FullTime Employee*********\") \n",
    "for i in fullTime:\n",
    "    i.show()\n",
    "    print()\n"
   ]
  },
  {
   "cell_type": "code",
   "execution_count": 14,
   "metadata": {},
   "outputs": [
    {
     "name": "stdout",
     "output_type": "stream",
     "text": [
      "enter the number:12\n",
      "enter the number:3\n",
      "enter the number:4\n",
      "The entered number is  12\n",
      "The square of the number is  144\n",
      "The entered number is  3\n",
      "The square root of the number is  1.7320508075688772\n",
      "The entered number is  4\n",
      "The cube of the number is  64\n"
     ]
    }
   ],
   "source": [
    "#abstract base class\n",
    "from abc import ABC,abstractmethod\n",
    "import math\n",
    "class Base(ABC):\n",
    "    def show(self,x):\n",
    "        print(\"The entered number is \",x) \n",
    "    @abstractmethod\n",
    "    def cal(self):\n",
    "        pass\n",
    "class square(Base):\n",
    "    def __init__(self,x):\n",
    "        self.x=x\n",
    "    def cal(self):\n",
    "        super().show(self.x)\n",
    "        print(\"The square of the number is \",self.x**2)\n",
    "class sqrt(Base):\n",
    "    def __init__(self,x):\n",
    "        self.x=x\n",
    "    def cal(self):\n",
    "        super().show(self.x)\n",
    "        print(\"The square root of the number is \",math.sqrt(self.x))\n",
    "class cube(Base):\n",
    "    def __init__(self,x):\n",
    "        self.x=x\n",
    "    def cal(self):\n",
    "        super().show(self.x)\n",
    "        print(\"The cube of the number is \",self.x**3)\n",
    "t=square(int(input(\"enter the number:\")))\n",
    "t1=sqrt(int(input(\"enter the number:\")))\n",
    "t2=cube(int(input(\"enter the number:\")))\n",
    "t.cal()\n",
    "t1.cal()\n",
    "t2.cal()"
   ]
  },
  {
   "cell_type": "code",
   "execution_count": 1,
   "metadata": {},
   "outputs": [],
   "source": [
    "class node:\n",
    "    def __init__(self,value):\n",
    "        self.value=value\n",
    "        self.next=None\n",
    "        \n",
    "class LinkedList:\n",
    "    def __init__(self):\n",
    "        self.headNode=node(None)\n",
    "        self.size=0\n",
    "    def insert(self):\n",
    "        if self.size==0:\n",
    "            self.headNode=node(input(\"Enter the value:\"))\n",
    "            self.size=self.size+1 \n",
    "        else:\n",
    "            temp=self.headNode\n",
    "            while temp.next!=None:\n",
    "                temp=temp.next\n",
    "            temp.next=node(input(\"Enter the value:\"))\n",
    "            self.size=self.size+1 \n",
    "          \n",
    "    def delete(self,value):\n",
    "        self.search(value)\n",
    "        temp=self.headNode\n",
    "        t1=node(0)\n",
    "        if self.size==0:\n",
    "            print(\"The list is empty\")\n",
    "        elif self.size==1:\n",
    "            self.headNode=self.headNode.next\n",
    "            self.size=self.size-1\n",
    "        else:\n",
    "            while temp!=None:\n",
    "                if temp.value==value:\n",
    "                    t1.next=temp.next\n",
    "                t1=temp\n",
    "                temp=temp.next\n",
    "            self.size=self.size-1\n",
    "        \n",
    "        \n",
    "    def size_list(self):\n",
    "        return self.size\n",
    "    def search(self,value):\n",
    "        temp=self.headNode\n",
    "        t1=None\n",
    "        i=0\n",
    "        while temp!=None:\n",
    "            if temp.value==value:\n",
    "                print(\"found the element at \",i)\n",
    "                return 0\n",
    "            i=i+1\n",
    "            temp=temp.next\n",
    "        print(\"element not found\")\n",
    "    def show(self):\n",
    "        temp=self.headNode\n",
    "        while temp!=None:\n",
    "            print(temp.value,end=\" \")\n",
    "            temp=temp.next\n"
   ]
  },
  {
   "cell_type": "code",
   "execution_count": 2,
   "metadata": {},
   "outputs": [],
   "source": [
    "l1=LinkedList()"
   ]
  },
  {
   "cell_type": "code",
   "execution_count": 3,
   "metadata": {},
   "outputs": [
    {
     "name": "stdout",
     "output_type": "stream",
     "text": [
      "enter the number of values to be inserted:4\n",
      "Enter the value:1\n",
      "Enter the value:2\n",
      "Enter the value:3\n",
      "Enter the value:4\n"
     ]
    }
   ],
   "source": [
    "n=int(input(\"enter the number of values to be inserted:\"))\n",
    "for i in range(0,n):\n",
    "    l1.insert()\n",
    "#l1.insert(100)"
   ]
  },
  {
   "cell_type": "code",
   "execution_count": 4,
   "metadata": {},
   "outputs": [
    {
     "name": "stdout",
     "output_type": "stream",
     "text": [
      "the list is:\n",
      "1 2 3 4 "
     ]
    }
   ],
   "source": [
    "print(\"the list is:\")\n",
    "l1.show()"
   ]
  },
  {
   "cell_type": "code",
   "execution_count": 5,
   "metadata": {},
   "outputs": [
    {
     "name": "stdout",
     "output_type": "stream",
     "text": [
      "enter the value to be searched3\n",
      "found the element at  2\n"
     ]
    },
    {
     "data": {
      "text/plain": [
       "0"
      ]
     },
     "execution_count": 5,
     "metadata": {},
     "output_type": "execute_result"
    }
   ],
   "source": [
    "l1.search(input(\"enter the value to be searched\"))"
   ]
  },
  {
   "cell_type": "code",
   "execution_count": 6,
   "metadata": {},
   "outputs": [
    {
     "name": "stdout",
     "output_type": "stream",
     "text": [
      "enter the value to be deleted2\n",
      "found the element at  1\n"
     ]
    }
   ],
   "source": [
    "l1.delete(input(\"enter the value to be deleted\"))"
   ]
  },
  {
   "cell_type": "code",
   "execution_count": 9,
   "metadata": {},
   "outputs": [
    {
     "name": "stdout",
     "output_type": "stream",
     "text": [
      "the list is:\n",
      "1 3 4 \n",
      "the size is 3\n"
     ]
    }
   ],
   "source": [
    "print(\"the list is:\")\n",
    "l1.show()\n",
    "print()\n",
    "print(\"the size is\",l1.size_list())"
   ]
  },
  {
   "cell_type": "code",
   "execution_count": 3,
   "metadata": {},
   "outputs": [
    {
     "name": "stdout",
     "output_type": "stream",
     "text": [
      "enter the number of elements in the list:6\n",
      "Enter the number in the list5\n",
      "Enter the number in the list10\n",
      "Enter the number in the list12\n",
      "Enter the number in the list13\n",
      "Enter the number in the list15\n",
      "Enter the number in the list18\n",
      "enter the maximum value for sum:30\n",
      "the required list of numbers is:  [5, 10, 12]\n"
     ]
    }
   ],
   "source": [
    "#assignment 3\n",
    "l=int(input(\"enter the number of elements in the list:\"))\n",
    "s=[]\n",
    "sums=[]\n",
    "for i in range(0,l):\n",
    "    s.append(int(input(\"Enter the number in the list:\")))\n",
    "m=int(input(\"enter the maximum value for sum:\"))\n",
    "s.sort()\n",
    "for i in s:\n",
    "    sums.append(i)\n",
    "    if sum(sums)>m:\n",
    "        sums.pop()\n",
    "print(\"the required list of numbers is: \",sums)        "
   ]
  },
  {
   "cell_type": "code",
   "execution_count": null,
   "metadata": {},
   "outputs": [],
   "source": []
  }
 ],
 "metadata": {
  "kernelspec": {
   "display_name": "Python 3",
   "language": "python",
   "name": "python3"
  },
  "language_info": {
   "codemirror_mode": {
    "name": "ipython",
    "version": 3
   },
   "file_extension": ".py",
   "mimetype": "text/x-python",
   "name": "python",
   "nbconvert_exporter": "python",
   "pygments_lexer": "ipython3",
   "version": "3.7.6"
  }
 },
 "nbformat": 4,
 "nbformat_minor": 4
}
